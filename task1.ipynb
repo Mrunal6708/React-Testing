{
  "nbformat": 4,
  "nbformat_minor": 0,
  "metadata": {
    "colab": {
      "private_outputs": true,
      "provenance": []
    },
    "kernelspec": {
      "name": "python3",
      "display_name": "Python 3"
    },
    "language_info": {
      "name": "python"
    }
  },
  "cells": [
    {
      "cell_type": "markdown",
      "source": [
        "\n",
        "\n",
        "## 🧪 Comparison Table: Types of Software Testing\n",
        "\n",
        "| **Testing Type**           | **Purpose**                                                                 | **Level**         | **Example Tools**            |\n",
        "|----------------------------|------------------------------------------------------------------------------|-------------------|------------------------------|\n",
        "| **Unit Testing**           | Tests individual components or functions in isolation                        | Low-level         | JUnit, NUnit, Jest           |\n",
        "| **Integration Testing**    | Verifies interaction between modules or services                             | Mid-level         | Postman, Mocha               |\n",
        "| **System Testing**         | Validates the complete and integrated system                                 | High-level        | Selenium, TestComplete       |\n",
        "| **Acceptance Testing**     | Ensures the system meets business requirements                               | High-level        | Cucumber, FitNesse           |\n",
        "| **Performance Testing**    | Measures responsiveness, stability, and scalability                          | Non-functional    | JMeter, LoadRunner           |\n",
        "| **Security Testing**       | Identifies vulnerabilities and ensures data protection                       | Non-functional    | OWASP ZAP, Burp Suite        |\n",
        "| **Usability Testing**      | Evaluates user experience and interface intuitiveness                        | Non-functional    | Crazy Egg, Loop11            |\n",
        "| **Compatibility Testing**  | Checks app behavior across browsers, devices, and OS                         | Non-functional    | BrowserStack, Sauce Labs     |\n",
        "| **Regression Testing**     | Ensures new changes don’t break existing functionality                       | Functional        | Selenium, Cypress            |\n",
        "| **Ad-hoc Testing**         | Unstructured testing to find unexpected issues                               | Exploratory       | Manual                       |\n",
        "\n",
        "Sources:\n",
        "\n",
        "---\n",
        "\n",
        "## ⚛️ Popular Testing Libraries for React Applications\n",
        "\n",
        "Here are the top libraries and tools used to test React apps:\n",
        "\n",
        "- **Jest**: A powerful testing framework by Meta, ideal for unit and integration testing. It includes a test runner, assertion library, and mocking capabilities.\n",
        "- **React Testing Library (RTL)**: Focuses on testing components from the user’s perspective. Encourages best practices by avoiding implementation details.\n",
        "- **Enzyme**: Developed by Airbnb, useful for shallow rendering and component lifecycle testing. Less favored now compared to RTL.\n",
        "- **Cypress**: End-to-end testing tool that runs in the browser. Great for UI and integration testing.\n",
        "- **Playwright**: Modern E2E testing framework supporting multiple browsers. Useful for automation and cross-browser testing.\n",
        "- **Mocha + Chai**: Flexible testing setup for unit and integration tests. Often paired with Sinon for mocking.\n",
        "- **Storybook + Jest/RTL**: Storybook helps visualize components; combined with Jest/RTL for snapshot and interaction testing.\n",
        "\n"
      ],
      "metadata": {
        "id": "8KF9CF8NGX6o"
      }
    }
  ]
}